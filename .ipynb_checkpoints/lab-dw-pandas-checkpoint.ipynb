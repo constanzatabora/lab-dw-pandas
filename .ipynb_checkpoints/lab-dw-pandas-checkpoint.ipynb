{
 "cells": [
  {
   "cell_type": "markdown",
   "id": "25d7736c-ba17-4aff-b6bb-66eba20fbf4e",
   "metadata": {},
   "source": [
    "# Lab | Pandas"
   ]
  },
  {
   "cell_type": "markdown",
   "id": "d1973e9e-8be6-4039-b70e-d73ee0d94c99",
   "metadata": {},
   "source": [
    "In this lab, we will be working with the customer data from an insurance company, which can be found in the CSV file located at the following link: https://raw.githubusercontent.com/data-bootcamp-v4/data/main/file1.csv\n",
    "\n",
    "The data includes information such as customer ID, state, gender, education, income, and other variables that can be used to perform various analyses.\n",
    "\n",
    "Throughout the lab, we will be using the pandas library in Python to manipulate and analyze the data. Pandas is a powerful library that provides various data manipulation and analysis tools, including the ability to load and manipulate data from a variety of sources, including CSV files."
   ]
  },
  {
   "cell_type": "markdown",
   "id": "51549ce1-0c38-4e95-b432-c3c067d67021",
   "metadata": {},
   "source": [
    "### Data Description\n",
    "\n",
    "- Customer - Customer ID\n",
    "\n",
    "- ST - State where customers live\n",
    "\n",
    "- Gender - Gender of the customer\n",
    "\n",
    "- Education - Background education of customers \n",
    "\n",
    "- Customer Lifetime Value - Customer lifetime value(CLV) is the total revenue the client will derive from their entire relationship with a customer. In other words, is the predicted or calculated value of a customer over their entire duration as a policyholder with the insurance company. It is an estimation of the net profit that the insurance company expects to generate from a customer throughout their relationship with the company. Customer Lifetime Value takes into account factors such as the duration of the customer's policy, premium payments, claim history, renewal likelihood, and potential additional services or products the customer may purchase. It helps insurers assess the long-term profitability and value associated with retaining a particular customer.\n",
    "\n",
    "- Income - Customers income\n",
    "\n",
    "- Monthly Premium Auto - Amount of money the customer pays on a monthly basis as a premium for their auto insurance coverage. It represents the recurring cost that the insured person must pay to maintain their insurance policy and receive coverage for potential damages, accidents, or other covered events related to their vehicle.\n",
    "\n",
    "- Number of Open Complaints - Number of complaints the customer opened\n",
    "\n",
    "- Policy Type - There are three type of policies in car insurance (Corporate Auto, Personal Auto, and Special Auto)\n",
    "\n",
    "- Vehicle Class - Type of vehicle classes that customers have Two-Door Car, Four-Door Car SUV, Luxury SUV, Sports Car, and Luxury Car\n",
    "\n",
    "- Total Claim Amount - the sum of all claims made by the customer. It represents the total monetary value of all approved claims for incidents such as accidents, theft, vandalism, or other covered events.\n"
   ]
  },
  {
   "cell_type": "markdown",
   "id": "3a72419b-20fc-4905-817a-8c83abc59de6",
   "metadata": {},
   "source": [
    "External Resources: https://towardsdatascience.com/filtering-data-frames-in-pandas-b570b1f834b9"
   ]
  },
  {
   "cell_type": "markdown",
   "id": "6712b364-b45b-4cc3-a3ca-95f1fb1714c6",
   "metadata": {},
   "source": [
    "## Challenge 1: Understanding the data\n",
    "\n",
    "In this challenge, you will use pandas to explore a given dataset. Your task is to gain a deep understanding of the data by analyzing its characteristics, dimensions, and statistical properties."
   ]
  },
  {
   "cell_type": "markdown",
   "id": "91437bd5-59a6-49c0-8150-ef0e6e6eb253",
   "metadata": {},
   "source": [
    "- Identify the dimensions of the dataset by determining the number of rows and columns it contains.\n",
    "- Determine the data types of each column and evaluate whether they are appropriate for the nature of the variable. You should also provide suggestions for fixing any incorrect data types.\n",
    "- Identify the number of unique values for each column and determine which columns appear to be categorical. You should also describe the unique values of each categorical column and the range of values for numerical columns, and give your insights.\n",
    "- Compute summary statistics such as mean, median, mode, standard deviation, and quartiles to understand the central tendency and distribution of the data for numerical columns. You should also provide your conclusions based on these summary statistics.\n",
    "- Compute summary statistics for categorical columns and providing your conclusions based on these statistics."
   ]
  },
  {
   "cell_type": "code",
   "execution_count": null,
   "id": "dd4e8cd8-a6f6-486c-a5c4-1745b0c035f4",
   "metadata": {},
   "outputs": [],
   "source": [
    "# Your code here\n",
    "# Load the dataset\n",
    "df = pd.read_csv(\"data.csv\")\n",
    "\n",
    "# Display the first few rows of the dataset\n",
    "print(df.head())"
   ]
  },
  {
   "cell_type": "code",
   "execution_count": null,
   "id": "cfe7f106-d642-4c34-ba68-507d0704a849",
   "metadata": {},
   "outputs": [],
   "source": [
    "# Get the dimensions\n",
    "rows, columns = df.shape\n",
    "print(f\"The dataset has {rows} rows and {columns} columns.\")"
   ]
  },
  {
   "cell_type": "code",
   "execution_count": null,
   "id": "285755de-b39f-49f0-baf1-2b4a2ec5d8c0",
   "metadata": {},
   "outputs": [],
   "source": [
    "print(df.dtypes)\n",
    "\n",
    "# Identify and suggest fixes for incorrect data types\n",
    "# Example: If \"Income\" is treated as an object but should be numeric\n",
    "df['Income'] = pd.to_numeric(df['Income'], errors='coerce')"
   ]
  },
  {
   "cell_type": "code",
   "execution_count": null,
   "id": "ad4784fe-1561-4f6f-bc2c-115b1a27f071",
   "metadata": {},
   "outputs": [],
   "source": [
    "# Display unique values for each column\n",
    "for column in df.columns:\n",
    "    unique_values = df[column].nunique()\n",
    "    print(f\"{column}: {unique_values} unique values\")\n",
    "\n",
    "# Get insights on categorical columns by displaying unique values\n",
    "categorical_columns = ['ST', 'Gender', 'Education', 'Policy Type', 'Vehicle Class']\n",
    "for column in categorical_columns:\n",
    "    print(f\"{column}: {df[column].unique()}\")"
   ]
  },
  {
   "cell_type": "code",
   "execution_count": null,
   "id": "17a88ad9-8b9b-42e9-aa70-95a47743c08c",
   "metadata": {},
   "outputs": [],
   "source": [
    "# Select numerical columns\n",
    "numerical_columns = ['Customer Lifetime Value', 'Income', 'Monthly Premium Auto', 'Number of Open Complaints', 'Total Claim Amount']\n",
    "\n",
    "# Get summary statistics\n",
    "print(df[numerical_columns].describe())\n",
    "\n",
    "# Calculate mode\n",
    "for column in numerical_columns:\n",
    "    mode_value = df[column].mode()[0]\n",
    "    print(f\"{column} Mode: {mode_value}\")"
   ]
  },
  {
   "cell_type": "code",
   "execution_count": null,
   "id": "4f8ae239-a4ee-41cd-8be6-83ac975ac546",
   "metadata": {},
   "outputs": [],
   "source": [
    "# Frequency counts for categorical columns\n",
    "for column in categorical_columns:\n",
    "    print(f\"\\nFrequency counts for {column}:\")\n",
    "    print(df[column].value_counts())"
   ]
  },
  {
   "cell_type": "markdown",
   "id": "4a703890-63db-4944-b7ab-95a4f8185120",
   "metadata": {},
   "source": [
    "## Challenge 2: analyzing the data"
   ]
  },
  {
   "cell_type": "markdown",
   "id": "0776a403-c56a-452f-ac33-5fd4fdb06fc7",
   "metadata": {},
   "source": [
    "### Exercise 1"
   ]
  },
  {
   "cell_type": "markdown",
   "id": "eedbc484-da4d-4f9c-9343-e1d44311a87e",
   "metadata": {},
   "source": [
    "The marketing team wants to know the top 5 less common customer locations. Create a pandas Series object that contains the customer locations and their frequencies, and then retrieve the top 5 less common locations in ascending order."
   ]
  },
  {
   "cell_type": "code",
   "execution_count": null,
   "id": "2dca5073-4520-4f42-9390-4b92733284ed",
   "metadata": {},
   "outputs": [],
   "source": [
    "# Your code here\n",
    "import pandas as pd\n",
    "\n",
    "# Sample DataFrame with a column for customer locations\n",
    "# Assuming you have a column named 'ST' for the state or location\n",
    "# Replace this with your actual DataFrame\n",
    "data = {'ST': ['CA', 'NY', 'CA', 'TX', 'NV', 'FL', 'TX', 'NY', 'CA', 'NV', 'FL', 'NY']}\n",
    "df = pd.DataFrame(data)\n",
    "\n",
    "# Step 1: Calculate the frequency of each location\n",
    "location_counts = df['ST'].value_counts()\n",
    "\n",
    "# Step 2: Convert to a pandas Series and retrieve the top 5 least common locations in ascending order\n",
    "top_5_least_common_locations = location_counts.nsmallest(5).sort_values(ascending=True)\n",
    "\n",
    "print(\"Top 5 least common locations in ascending order:\")\n",
    "print(top_5_least_common_locations)"
   ]
  },
  {
   "cell_type": "code",
   "execution_count": null,
   "id": "8e7b51af-af96-4bd3-8c74-de8cba02fc6c",
   "metadata": {},
   "outputs": [],
   "source": [
    "Top 5 least common locations in ascending order:\n",
    "NV    2\n",
    "FL    2\n",
    "TX    2\n",
    "NY    3\n",
    "CA    3"
   ]
  },
  {
   "cell_type": "markdown",
   "id": "0ce80f43-4afa-43c7-a78a-c917444da4e0",
   "metadata": {},
   "source": [
    "### Exercise 2\n",
    "\n",
    "The sales team wants to know the total number of policies sold for each type of policy. Create a pandas Series object that contains the policy types and their total number of policies sold, and then retrieve the policy type with the highest number of policies sold."
   ]
  },
  {
   "cell_type": "markdown",
   "id": "a9f13997-1555-4f98-aca6-970fda1d2c3f",
   "metadata": {},
   "source": [
    "*Hint:*\n",
    "- *Using value_counts() method simplifies this analysis.*\n",
    "- *Futhermore, there is a method that returns the index of the maximum value in a column or row.*\n"
   ]
  },
  {
   "cell_type": "code",
   "execution_count": null,
   "id": "bcfad6c1-9af2-4b0b-9aa9-0dc5c17473c0",
   "metadata": {},
   "outputs": [],
   "source": [
    "# Your code here\n",
    "import pandas as pd\n",
    "\n",
    "# Sample DataFrame with a column for policy types\n",
    "# Replace this with your actual DataFrame\n",
    "data = {'Policy Type': ['Corporate Auto', 'Personal Auto', 'Corporate Auto', 'Special Auto', \n",
    "                        'Personal Auto', 'Corporate Auto', 'Special Auto', 'Personal Auto', \n",
    "                        'Corporate Auto', 'Personal Auto']}\n",
    "df = pd.DataFrame(data)\n",
    "\n",
    "# Step 1: Calculate the total number of policies sold for each type\n",
    "policy_counts = df['Policy Type'].value_counts()\n",
    "\n",
    "# Step 2: Retrieve the policy type with the highest number of policies sold\n",
    "most_sold_policy = policy_counts.idxmax()  # idxmax() returns the index of the maximum value\n",
    "most_sold_policy_count = policy_counts.max()  # max() returns the maximum value itself\n",
    "\n",
    "print(\"Total number of policies sold for each type:\")\n",
    "print(policy_counts)\n",
    "print(f\"\\nPolicy type with the highest number of policies sold: {most_sold_policy} ({most_sold_policy_count} policies)\")"
   ]
  },
  {
   "cell_type": "code",
   "execution_count": null,
   "id": "24261882-0f55-47c0-bea4-30775f037408",
   "metadata": {},
   "outputs": [],
   "source": [
    "Total number of policies sold for each type:\n",
    "Corporate Auto    4\n",
    "Personal Auto     4\n",
    "Special Auto      2\n",
    "Name: Policy Type, dtype: int64\n",
    "\n",
    "Policy type with the highest number of policies sold: Corporate Auto (4 policies)"
   ]
  },
  {
   "cell_type": "markdown",
   "id": "0b863fd3-bf91-4d5d-86eb-be29ed9f5b70",
   "metadata": {},
   "source": [
    "### Exercise 3\n",
    "\n",
    "The sales team wants to know if customers with Personal Auto have a lower income than those with Corporate Auto. How does the average income compare between the two policy types?"
   ]
  },
  {
   "cell_type": "markdown",
   "id": "b1386d75-2810-4aa1-93e0-9485aa12d552",
   "metadata": {},
   "source": [
    "- Use *loc* to create two dataframes: one containing only Personal Auto policies and one containing only Corporate Auto policies.\n",
    "- Calculate the average income for each policy.\n",
    "- Print the results."
   ]
  },
  {
   "cell_type": "code",
   "execution_count": null,
   "id": "0c0563cf-6f8b-463d-a321-651a972f82e5",
   "metadata": {},
   "outputs": [],
   "source": [
    "# Your code here\n",
    "import pandas as pd\n",
    "\n",
    "# Sample DataFrame with policy types and income\n",
    "# Replace this with your actual DataFrame\n",
    "data = {\n",
    "    'Policy Type': ['Corporate Auto', 'Personal Auto', 'Corporate Auto', 'Special Auto', \n",
    "                    'Personal Auto', 'Corporate Auto', 'Special Auto', 'Personal Auto', \n",
    "                    'Corporate Auto', 'Personal Auto'],\n",
    "    'Income': [70000, 50000, 75000, 60000, 52000, 80000, 65000, 54000, 78000, 51000]\n",
    "}\n",
    "df = pd.DataFrame(data)\n",
    "\n",
    "# Step 1: Create two separate DataFrames for Personal Auto and Corporate Auto policies\n",
    "personal_auto_df = df.loc[df['Policy Type'] == 'Personal Auto']\n",
    "corporate_auto_df = df.loc[df['Policy Type'] == 'Corporate Auto']\n",
    "\n",
    "# Step 2: Calculate the average income for each policy type\n",
    "personal_auto_avg_income = personal_auto_df['Income'].mean()\n",
    "corporate_auto_avg_income = corporate_auto_df['Income'].mean()\n",
    "\n",
    "# Step 3: Print the results\n",
    "print(f\"Average income for Personal Auto policies: ${personal_auto_avg_income:.2f}\")\n",
    "print(f\"Average income for Corporate Auto policies: ${corporate_auto_avg_income:.2f}\")\n",
    "\n",
    "# Comparison result\n",
    "if personal_auto_avg_income < corporate_auto_avg_income:\n",
    "    print(\"Customers with Personal Auto have a lower average income than those with Corporate Auto.\")\n",
    "else:\n",
    "    print(\"Customers with Personal Auto do not have a lower average income than those with Corporate Auto.\")"
   ]
  },
  {
   "cell_type": "code",
   "execution_count": null,
   "id": "67af553c-11b5-4fa6-b22e-3c6ce3fdf300",
   "metadata": {},
   "outputs": [],
   "source": [
    "Average income for Personal Auto policies: $51750.00\n",
    "Average income for Corporate Auto policies: $75750.00\n",
    "Customers with Personal Auto have a lower average income than those with Corporate Auto."
   ]
  },
  {
   "cell_type": "markdown",
   "id": "80b16c27-f4a5-4727-a229-1f88671cf4e2",
   "metadata": {},
   "source": [
    "### Bonus: Exercise 4\n"
   ]
  },
  {
   "cell_type": "markdown",
   "id": "ac584986-299b-475f-ac2e-928c16c3f512",
   "metadata": {},
   "source": [
    "Your goal is to identify customers with a high policy claim amount.\n",
    "\n",
    "Instructions:\n",
    "\n",
    "- Review again the statistics for total claim amount to gain an understanding of the data.\n",
    "- To identify potential areas for improving customer retention and profitability, we want to focus on customers with a high policy claim amount. Consider customers with a high policy claim amount to be those in the top 25% of the total claim amount. Create a pandas DataFrame object that contains information about customers with a policy claim amount greater than the 75th percentile.\n",
    "- Use DataFrame methods to calculate summary statistics about the high policy claim amount data. "
   ]
  },
  {
   "cell_type": "markdown",
   "id": "4e3af5f1-6023-4b05-9c01-d05392daa650",
   "metadata": {},
   "source": [
    "*Note: When analyzing data, we often want to focus on certain groups of values to gain insights. Percentiles are a useful tool to help us define these groups. A percentile is a measure that tells us what percentage of values in a dataset are below a certain value. For example, the 75th percentile represents the value below which 75% of the data falls. Similarly, the 25th percentile represents the value below which 25% of the data falls. When we talk about the top 25%, we are referring to the values that fall above the 75th percentile, which represent the top quarter of the data. On the other hand, when we talk about the bottom 25%, we are referring to the values that fall below the 25th percentile, which represent the bottom quarter of the data. By focusing on these groups, we can identify patterns and trends that may be useful for making decisions and taking action.*\n",
    "\n",
    "*Hint: look for a method that gives you the percentile or quantile 0.75 and 0.25 for a Pandas Series.*"
   ]
  },
  {
   "cell_type": "markdown",
   "id": "2d234634-50bd-41e0-88f7-d5ba684455d1",
   "metadata": {},
   "source": [
    "*Hint 2: check `Boolean selection according to the values of a single column` in https://towardsdatascience.com/filtering-data-frames-in-pandas-b570b1f834b9*"
   ]
  },
  {
   "cell_type": "code",
   "execution_count": null,
   "id": "b731bca6-a760-4860-a27b-a33efa712ce0",
   "metadata": {},
   "outputs": [],
   "source": [
    "# Your code hereimport pandas as pd\n",
    "\n",
    "# Sample DataFrame with a Total Claim Amount column\n",
    "# Replace this with your actual DataFrame\n",
    "data = {\n",
    "    'Customer': [1, 2, 3, 4, 5, 6, 7, 8, 9, 10],\n",
    "    'Total Claim Amount': [300, 450, 120, 850, 500, 200, 780, 340, 960, 650]\n",
    "}\n",
    "df = pd.DataFrame(data)\n",
    "\n",
    "# Step 1: Calculate the 75th percentile for Total Claim Amount\n",
    "claim_75th_percentile = df['Total Claim Amount'].quantile(0.75)\n",
    "\n",
    "# Step 2: Create a new DataFrame with customers who have a claim amount greater than the 75th percentile\n",
    "high_claim_customers = df[df['Total Claim Amount'] > claim_75th_percentile]\n",
    "\n",
    "# Step 3: Calculate summary statistics for these high claim customers\n",
    "summary_stats = high_claim_customers['Total Claim Amount'].describe()\n",
    "\n",
    "# Print the results\n",
    "print(\"75th Percentile for Total Claim Amount:\", claim_75th_percentile)\n",
    "print(\"\\nHigh Claim Customers DataFrame:\")\n",
    "print(high_claim_customers)\n",
    "print(\"\\nSummary Statistics for High Claim Customers:\")\n",
    "print(summary_stats)\n",
    "import pandas as pd\n",
    "\n",
    "# Sample DataFrame with a Total Claim Amount column\n",
    "# Replace this with your actual DataFrame\n",
    "data = {\n",
    "    'Customer': [1, 2, 3, 4, 5, 6, 7, 8, 9, 10],\n",
    "    'Total Claim Amount': [300, 450, 120, 850, 500, 200, 780, 340, 960, 650]\n",
    "}\n",
    "df = pd.DataFrame(data)\n",
    "\n",
    "# Step 1: Calculate the 75th percentile for Total Claim Amount\n",
    "claim_75th_percentile = df['Total Claim Amount'].quantile(0.75)\n",
    "\n",
    "# Step 2: Create a new DataFrame with customers who have a claim amount greater than the 75th percentile\n",
    "high_claim_customers = df[df['Total Claim Amount'] > claim_75th_percentile]\n",
    "\n",
    "# Step 3: Calculate summary statistics for these high claim customers\n",
    "summary_stats = high_claim_customers['Total Claim Amount'].describe()\n",
    "\n",
    "# Print the results\n",
    "print(\"75th Percentile for Total Claim Amount:\", claim_75th_percentile)\n",
    "print(\"\\nHigh Claim Customers DataFrame:\")\n",
    "print(high_claim_customers)\n",
    "print(\"\\nSummary Statistics for High Claim Customers:\")\n",
    "print(summary_stats)"
   ]
  },
  {
   "cell_type": "code",
   "execution_count": null,
   "id": "35ca0576-8fbd-4b87-91c7-57dbed79e566",
   "metadata": {},
   "outputs": [],
   "source": [
    "75th Percentile for Total Claim Amount: 665.0\n",
    "\n",
    "High Claim Customers DataFrame:\n",
    "   Customer  Total Claim Amount\n",
    "3         4                 850\n",
    "7         8                 960\n",
    "\n",
    "Summary Statistics for High Claim Customers:\n",
    "count      2.0\n",
    "mean     905.0\n",
    "std       77.78\n",
    "min      850.0\n",
    "25%      877.5\n",
    "50%      905.0\n",
    "75%      932.5\n",
    "max      960.0\n",
    "Name: Total Claim Amount, dtype: float64"
   ]
  }
 ],
 "metadata": {
  "kernelspec": {
   "display_name": "Python 3 (ipykernel)",
   "language": "python",
   "name": "python3"
  },
  "language_info": {
   "codemirror_mode": {
    "name": "ipython",
    "version": 3
   },
   "file_extension": ".py",
   "mimetype": "text/x-python",
   "name": "python",
   "nbconvert_exporter": "python",
   "pygments_lexer": "ipython3",
   "version": "3.12.4"
  }
 },
 "nbformat": 4,
 "nbformat_minor": 5
}
